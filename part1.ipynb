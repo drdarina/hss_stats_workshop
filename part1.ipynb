{
 "cells": [
  {
   "cell_type": "markdown",
   "id": "8df9036d-f165-4326-9b1a-7102d1fd79e9",
   "metadata": {},
   "source": [
    "# Part 1: Descriptive Statistics and Data Exploration"
   ]
  },
  {
   "cell_type": "markdown",
   "id": "1128c2f6-60a4-4acf-a076-4e7f1dceb27a",
   "metadata": {},
   "source": [
    "## What is data?\n",
    "\n",
    "- Data is information\n",
    "- Everything around us is or can become data"
   ]
  },
  {
   "cell_type": "markdown",
   "id": "df86624c-7754-49cc-a1f2-788248defc5d",
   "metadata": {},
   "source": [
    "## Types of data\n",
    "\n",
    "- Quantitative\n",
    "    - Discrete\n",
    "    - Continuous\n",
    "- Categorical\n",
    "    - Nominal\n",
    "    - Ordinal"
   ]
  },
  {
   "cell_type": "markdown",
   "id": "58f9c1b9-7725-42b3-9c4b-8a51237ed04f",
   "metadata": {},
   "source": [
    "## Descriptive statistics\n",
    "- help understand and describe data\n",
    "- first step of any data analysis"
   ]
  },
  {
   "cell_type": "markdown",
   "id": "99278d38-520d-4a97-a43b-5e5caa015821",
   "metadata": {},
   "source": [
    "## Measures of Central Tendency - what's \"typical\"?\n",
    "\n",
    "Example: we have the ages of five people:  ages = [25, 30, 28, 32, 27]\n",
    "\n",
    "### Mean - the average\n",
    "\n",
    "sum up all the values and divide by their number\n",
    "sum(ages)/len(ages) = 142/5 = 28.4\n",
    "\n",
    "- uses all data points equally\n",
    "- great for symmetrical data without extereme values\n",
    "- what happens when one person in the group is 95?\n",
    " \n",
    "    -> very sensitive to outliers"
   ]
  },
  {
   "cell_type": "code",
   "execution_count": null,
   "id": "59d5fdcd-b3f2-426f-b0e6-fd46a4c82062",
   "metadata": {},
   "outputs": [],
   "source": [
    "import numpy as np\n",
    "ages = [25, 30, 28, 32, 27]\n",
    "np.mean(ages)"
   ]
  },
  {
   "cell_type": "markdown",
   "id": "36e0505c-61aa-422c-84b1-727d5762f01f",
   "metadata": {},
   "source": [
    "### Median - the middle value\n",
    "- sort the data from smallest to largest and take the middle value\n",
    "- if the number of datapoints is even, take the average between the two middle ones\n",
    "\n",
    "remember ages = [25, 30, 28, 32, 27]\n",
    "\n",
    "sorted_ages = [25, 27, 28, 30, 32]\n",
    "\n",
    "median is 28\n",
    "\n",
    "- what happens if one person is 90?\n",
    "\n",
    "  -> not sensitive to outliers\n",
    "\n",
    "- we can also take the values at other lines through the data: 0.25 and 0.75 are called quartiles; other lines percentiles"
   ]
  },
  {
   "cell_type": "code",
   "execution_count": null,
   "id": "a6fa5a1b-768e-4596-b1da-edf6dbb96112",
   "metadata": {},
   "outputs": [],
   "source": [
    "np.median(ages)"
   ]
  },
  {
   "cell_type": "markdown",
   "id": "597ef7bf-11c5-40ba-8422-5e0cb299cd2e",
   "metadata": {},
   "source": [
    "### Mode - the most frequent\n",
    "\n",
    "- the value that appears most frequently in the data\n",
    "- usecase: categorical data\n",
    "    - there is no mean or median (no 'average' favourite color)\n",
    "    - but there is a most common value\n",
    "- data can be unimodal, multimodal or no mode\n",
    "- example:\n",
    "    - favourite colors: [red, blue, green, red, yellow, blue, red]\n",
    "    - mode is red"
   ]
  },
  {
   "cell_type": "code",
   "execution_count": null,
   "id": "20dd16d2-057c-4cf1-81eb-ce8bb72422ae",
   "metadata": {},
   "outputs": [],
   "source": [
    "np.mode(ages)"
   ]
  },
  {
   "cell_type": "markdown",
   "id": "a164c1bb-7002-4590-ad9d-13703ef9f93e",
   "metadata": {},
   "source": [
    "Whoops! Looks like numpy doesn't implement mode.\n",
    "\n",
    "That's because numpy is for numerical operations. But we still have pandas!"
   ]
  },
  {
   "cell_type": "code",
   "execution_count": null,
   "id": "20f8047e-a350-4102-adcc-a0a34ddf4d1c",
   "metadata": {},
   "outputs": [],
   "source": [
    "import pandas as pd\n",
    "\n",
    "ages = [25, 30, 28, 32, 27]\n",
    "df = pd.DataFrame({'age': ages})\n",
    "df.age.mode()"
   ]
  },
  {
   "cell_type": "code",
   "execution_count": null,
   "id": "d18ea0a0-2b97-4230-a9a4-37d9dfa95fb5",
   "metadata": {},
   "outputs": [],
   "source": [
    "# using a bigger dataset\n",
    "from sklearn.datasets import load_iris\n",
    "\n",
    "iris = load_iris(as_frame=True)\n",
    "df = iris['data']"
   ]
  },
  {
   "cell_type": "code",
   "execution_count": null,
   "id": "12e544d9-f974-4bc5-94ef-3d231f028240",
   "metadata": {},
   "outputs": [],
   "source": [
    "df.head()"
   ]
  },
  {
   "cell_type": "code",
   "execution_count": null,
   "id": "4fb2533a-55eb-487d-ba05-34fdae6d34b2",
   "metadata": {},
   "outputs": [],
   "source": [
    "df.columns = ['s_length', 's_width', 'p_length', 'p_width']\n",
    "df['target'] = iris['target']"
   ]
  },
  {
   "cell_type": "code",
   "execution_count": null,
   "id": "197a4c92-27f0-4d54-8ba6-c90914295f3e",
   "metadata": {},
   "outputs": [],
   "source": [
    "df.groupby('target').s_length.mean()"
   ]
  },
  {
   "cell_type": "code",
   "execution_count": null,
   "id": "cb817255-7211-4c61-b609-01d51b7f2990",
   "metadata": {},
   "outputs": [],
   "source": [
    "df.groupby('target').p_length.median()"
   ]
  },
  {
   "cell_type": "code",
   "execution_count": null,
   "id": "fbd0f4ef-5be1-4020-8bba-2b80c2610163",
   "metadata": {},
   "outputs": [],
   "source": [
    "df.groupby('target').p_width.agg(lambda x: x.mode().to_list())"
   ]
  },
  {
   "cell_type": "markdown",
   "id": "f3a17094-20a5-489c-8a82-8ce6cb611f89",
   "metadata": {},
   "source": [
    "## 1.3 Measures of Variability/Spread (15 minutes)\n",
    "\n",
    "### Range - simple, but limited\n",
    "- difference between min and max in the dataset\n",
    "- ages = [25, 30, 28, 32, 27]\n",
    "    - max = 32\n",
    "    - min = 25\n",
    "    - range = 7\n",
    "- if we include 90, range jumps to 65"
   ]
  },
  {
   "cell_type": "code",
   "execution_count": null,
   "id": "55ad4b11-1edf-42d9-a864-e4ac2ccfd28d",
   "metadata": {},
   "outputs": [],
   "source": [
    "df.s_length.max() - df.s_length.min()"
   ]
  },
  {
   "cell_type": "code",
   "execution_count": null,
   "id": "afaf4ef9-60f6-4d9f-896d-dd1a8386bc5f",
   "metadata": {},
   "outputs": [],
   "source": [
    "df.groupby('target').agg(lambda x: x.max() - x.min())"
   ]
  },
  {
   "cell_type": "markdown",
   "id": "ab369730-a969-4364-9490-157700be6f80",
   "metadata": {},
   "source": [
    "### Interquartile Range (IQR) - robust spread\n",
    "\n",
    "New terms:\n",
    "- quartile: 25% of the data\n",
    "- xth percentile: x% of the data\n",
    "- 1st quartile is equal to 25th percentile\n",
    "- 2nd quartile is equal to 50th percentile is equal to median\n",
    "- 3rd quartile is equal to 75th percentile\n",
    "\n",
    "#### IQR\n",
    "\n",
    "- range between the 25th and 75th percentile\n",
    "- ignores the extreme 25% on both ends\n",
    "- range of the middle 50% of the data"
   ]
  },
  {
   "cell_type": "code",
   "execution_count": null,
   "id": "307daf8c-cb72-4fb6-a052-cab82c21e49c",
   "metadata": {},
   "outputs": [],
   "source": [
    "quartiles = df.s_length.quantile([0.25, 0.75])\n",
    "iqr = quartiles[0.75] - quartiles[0.25]\n",
    "iqr"
   ]
  },
  {
   "cell_type": "code",
   "execution_count": null,
   "id": "32b308a9-351a-4d84-b87a-af5ca7d3cd47",
   "metadata": {},
   "outputs": [],
   "source": [
    "df.groupby('target').s_length.agg(lambda x: x.quantile(0.75) - x.quantile(0.25))"
   ]
  },
  {
   "cell_type": "markdown",
   "id": "6e0ced59-92e8-4567-b701-88a165e19286",
   "metadata": {},
   "source": [
    "### Variance and Standard Deviation\n",
    "\n",
    "- intuition: imagine every data point as a person; variance and std tell us how much they deviate from their home (mean)\n",
    "\n",
    "- Variance: calculates the average of the squared differences from the mean\n",
    "    - square the differences so that negative and positive deviations don't cancel each other out\n",
    "    - gives us a sense of the average squared spread\n",
    "\n",
    "- Standard Deviation (σ): square root of the variance\n",
    "    - brings the value back to the original scale of the data\n",
    "    - easier to interpret\n",
    "    - small std: data points are close to the mean, large std: datapoints are widely scattered\n",
    "\n",
    "- Average heigt is 170 cm with a standard deviation of 5 cm. How tall are most people?"
   ]
  },
  {
   "cell_type": "code",
   "execution_count": null,
   "id": "9f1d813f-0ad7-4762-abd4-9fb116947b88",
   "metadata": {},
   "outputs": [],
   "source": [
    "df.s_length.std()"
   ]
  },
  {
   "cell_type": "code",
   "execution_count": null,
   "id": "346c9c75-b4bf-4d18-a7db-baa02a7c9522",
   "metadata": {},
   "outputs": [],
   "source": [
    "df.describe()"
   ]
  },
  {
   "cell_type": "markdown",
   "id": "88970673-7a89-4166-9f4c-c83e182270c4",
   "metadata": {},
   "source": [
    "## Historgram"
   ]
  },
  {
   "cell_type": "code",
   "execution_count": null,
   "id": "634717df-3823-48ea-85bf-a954c6bbab87",
   "metadata": {},
   "outputs": [],
   "source": [
    "import matplotlib.pyplot as plt\n",
    "df.p_width.hist(bins=20)\n",
    "_ = plt.title('petal width histogram')"
   ]
  },
  {
   "cell_type": "code",
   "execution_count": null,
   "id": "cf1b53eb-089a-4f76-9b2f-b76200495633",
   "metadata": {},
   "outputs": [],
   "source": [
    "_ = df.hist(column='s_width', by='target', bins=20, layout=(1,3), figsize=(15,5))"
   ]
  },
  {
   "cell_type": "markdown",
   "id": "d87780a7-5905-4772-991d-5b9477b9ef59",
   "metadata": {},
   "source": [
    "## Box Plot"
   ]
  },
  {
   "cell_type": "code",
   "execution_count": null,
   "id": "36c7d79f-1dd7-4fbc-a824-3b630a8af86f",
   "metadata": {},
   "outputs": [],
   "source": [
    "df.p_length.plot(kind='box')"
   ]
  },
  {
   "cell_type": "code",
   "execution_count": null,
   "id": "0cf276c2-621e-4f44-8707-12c320d9fba8",
   "metadata": {},
   "outputs": [],
   "source": [
    "import seaborn as sns\n",
    "sns.boxplot(x='target', y='p_length', data=df)\n",
    "_ = plt.title('Iris dataset petal length by target')"
   ]
  },
  {
   "cell_type": "markdown",
   "id": "ae8bca96-90db-4e07-b156-afbf604910fa",
   "metadata": {},
   "source": [
    "## Bar Chart"
   ]
  },
  {
   "cell_type": "code",
   "execution_count": null,
   "id": "2f3e4383-1a39-44f0-9e82-af4d39d77a30",
   "metadata": {},
   "outputs": [],
   "source": [
    "df[df.target==0].s_width.value_counts().sort_index().plot.bar()"
   ]
  },
  {
   "cell_type": "markdown",
   "id": "049379bf-ba03-4bf8-9dec-a25a00ec402a",
   "metadata": {},
   "source": [
    "## Scatter Plot"
   ]
  },
  {
   "cell_type": "code",
   "execution_count": null,
   "id": "33dbf60c-a786-4a83-92be-49e6801d2301",
   "metadata": {},
   "outputs": [],
   "source": [
    "df.plot.scatter(x='p_width', y='p_length', c=df.target, colormap='viridis')"
   ]
  },
  {
   "cell_type": "markdown",
   "id": "86ca74fd-483a-452f-8ca6-b06cba014a95",
   "metadata": {},
   "source": [
    "## Recap\n",
    "- quantitative and categorical data\n",
    "- measures of 'typical' values (mean, median, mode)\n",
    "- measures of 'spread' (range, variance, std, IQR)\n",
    "- visualising data with histograms, box plots, bar charts, scater plots\n",
    "- key takeaway: always start by understanding your data!\n",
    "\n",
    "## Questions?"
   ]
  },
  {
   "cell_type": "code",
   "execution_count": null,
   "id": "8a0319a1-23f5-4dbb-8b91-6aff50032c60",
   "metadata": {},
   "outputs": [],
   "source": []
  }
 ],
 "metadata": {
  "kernelspec": {
   "display_name": "stats-workshop",
   "language": "python",
   "name": "stats-workshop"
  },
  "language_info": {
   "codemirror_mode": {
    "name": "ipython",
    "version": 3
   },
   "file_extension": ".py",
   "mimetype": "text/x-python",
   "name": "python",
   "nbconvert_exporter": "python",
   "pygments_lexer": "ipython3",
   "version": "3.12.3"
  }
 },
 "nbformat": 4,
 "nbformat_minor": 5
}

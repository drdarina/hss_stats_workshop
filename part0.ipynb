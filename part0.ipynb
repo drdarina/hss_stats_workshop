{
 "cells": [
  {
   "cell_type": "markdown",
   "id": "3591aecd-f341-4216-aac3-4ee05972be4d",
   "metadata": {},
   "source": [
    "# Introduction"
   ]
  },
  {
   "cell_type": "markdown",
   "id": "806cbe1e-dfa0-4a68-9048-f84d3f5e61ef",
   "metadata": {},
   "source": [
    "## Who am I and why'd they let me teach this?\n",
    "\n",
    "Dr. Darina Goldin\n",
    "- Studied mechanical, electrical and physical Engineering in Braunschweig, Rome, Berlin\n",
    "- PhD in Control Science (electrical engineering) from TU Berlin\n",
    "- 10 years working as a Data Scientist: Bayes Esports, Fit Analytics\n",
    "- About to start a new job as Engineering Team Lead at Mapp: https://mapp.com/"
   ]
  },
  {
   "cell_type": "markdown",
   "id": "df38c70f-5b1c-4a8d-b069-2df3bb33e762",
   "metadata": {},
   "source": [
    "## Workshop Overview\n",
    "\n",
    "### Part 1: Descriptive Statistics and Data Exploration\n",
    "- quantitative and categorical data\n",
    "- measures of 'typical' values (mean, median, mode)\n",
    "- measures of 'spread' (range, variance, std, IQR)\n",
    "- visualising data with histograms, box plots, bar charts, scater plots\n",
    "\n",
    "### Part 2: Probability Fundamentals\n",
    "\n",
    "- how to calculate basic probabilities\n",
    "- dependent vs independent events\n",
    "- mutually exclusive vs non mutually exclusive events\n",
    "- brief introduciton to probability distributions\n",
    "\n",
    "### break\n",
    "\n",
    "### Part 3: Inferential Statistics\n",
    "\n",
    "- population vs sample\n",
    "- central limit theorem\n",
    "- sample mean\n",
    "- confidence intervals\n",
    "- hypothesis testing\n",
    "- null vs alternative hypothesis\n",
    "- p-value and significance level\n",
    "\n",
    "### Part 4: Applied Hypothesis Testing & Regression Basics\n",
    "\n",
    "- A/B test\n",
    "- t-test\n",
    "- correlation coefficient\n",
    "- correlation vs causation\n",
    "- univariate linear regression\n",
    "\n",
    "### Recap and How to Continue Learning"
   ]
  },
  {
   "cell_type": "markdown",
   "id": "b87f3001-8968-49a5-baab-22542c78a4ce",
   "metadata": {},
   "source": [
    "## What do you need to follow along?\n",
    "\n",
    "- Nothing if you want to just watch and follow along\n",
    "- To run the code: Follow the installation in readme"
   ]
  },
  {
   "cell_type": "code",
   "execution_count": null,
   "id": "8d5aebc4-47f4-4e16-9aeb-4cc205e4bb75",
   "metadata": {},
   "outputs": [],
   "source": []
  }
 ],
 "metadata": {
  "kernelspec": {
   "display_name": "Python 3 (ipykernel)",
   "language": "python",
   "name": "python3"
  },
  "language_info": {
   "codemirror_mode": {
    "name": "ipython",
    "version": 3
   },
   "file_extension": ".py",
   "mimetype": "text/x-python",
   "name": "python",
   "nbconvert_exporter": "python",
   "pygments_lexer": "ipython3",
   "version": "3.11.13"
  }
 },
 "nbformat": 4,
 "nbformat_minor": 5
}

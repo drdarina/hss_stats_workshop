{
 "cells": [
  {
   "cell_type": "markdown",
   "id": "77cf3da4-c1ad-4a20-be38-e031ad9cf4cc",
   "metadata": {},
   "source": [
    "# Applied Hypothesis Testing & Regression Basics"
   ]
  },
  {
   "cell_type": "markdown",
   "id": "7b37c18b-d899-418b-a1cc-fe4e1da8cb8f",
   "metadata": {},
   "source": [
    "## Practical Hypothesis Testing: Comparing Means\n",
    "\n",
    "- comparing two groups\n",
    "\n",
    "### A/B Testing\n",
    "- two versions of a website, A and B\n",
    "- show A to half the users, B to the other half\n",
    "- Question: Is B truly better than A?"
   ]
  },
  {
   "cell_type": "markdown",
   "id": "ffd329e0-6940-4c6b-8e64-84d879434882",
   "metadata": {},
   "source": [
    "### T-Test for Comparing Means\n",
    "\n",
    "- helps determine if difference between two means is statistically significant\n",
    "- difference is statistically significant if it is likely to reflect a true difference in the underlying populations\n",
    "- there are different versions of the t-test!\n",
    "    - indepenent samples t-test for completely separate groups\n",
    "    - paired samples t-test for before-and-after measurements of the same group\n",
    "    - and others -> google the one you need before applying!\n",
    "- today: independent samples t-test (common for A/B tests)"
   ]
  },
  {
   "cell_type": "markdown",
   "id": "5c18a746-ebbe-4288-91de-599e7d0266e7",
   "metadata": {},
   "source": [
    "### A/B Testing a Website Design\n",
    "\n",
    "Scenario: Changed the colour of the \"sign up for newsletter\" button on our website\n",
    "\n",
    "Group A (control): Saw old button colour. 1000 visitors, 100 clicks -> 10% conversion\n",
    "\n",
    "Group B (new design): Saw new button color. 1000 visitors, 120 clicks -> 12% conversion\n",
    "\n",
    "Is the 2% difference in conversion rate real or just luck?\n",
    "\n",
    "#### Formally\n",
    "\n",
    "1. Formulate Hypotheses and significance level\n",
    "H0: ???\n",
    "Ha: ???\n",
    "\n",
    "2. Simulate Data and Perform t-test\n",
    "\n",
    "3. Interpret p-value and conclude"
   ]
  },
  {
   "cell_type": "code",
   "execution_count": null,
   "id": "16115216-b709-4343-a5bd-53989c094ee4",
   "metadata": {},
   "outputs": [],
   "source": [
    "import numpy as np\n",
    "from scipy.stats import ttest_ind\n",
    "\n",
    "# generate fake data\n",
    "group_a = np.hstack((np.zeros(900), np.ones(100)))\n",
    "group_b = np.hstack((np.zeros(880), np.ones(120)))\n",
    "\n",
    "ttest_ind(group_a, group_b)"
   ]
  },
  {
   "cell_type": "code",
   "execution_count": null,
   "id": "812fa172-41c5-4f4a-9525-c8454f80bc69",
   "metadata": {},
   "outputs": [],
   "source": [
    "# ttest returned also a \"statistic\" and a \"df\", what are these?"
   ]
  },
  {
   "cell_type": "code",
   "execution_count": null,
   "id": "efaef832-65ea-4a0b-b7de-99c0f2623f5c",
   "metadata": {},
   "outputs": [],
   "source": [
    "# another example - bmi by sex. Do you think that women and men have different BMIs?\n",
    "\n",
    "from sklearn.datasets import load_diabetes\n",
    "\n",
    "diabetes = load_diabetes(as_frame=True, scaled=False)\n",
    "diabetes['data'].head()"
   ]
  },
  {
   "cell_type": "code",
   "execution_count": null,
   "id": "ec5a1d16-0622-4626-9a1f-10438793f3d0",
   "metadata": {},
   "outputs": [],
   "source": [
    "bmi1 = diabetes['data'][diabetes['data'].sex==1].bmi\n",
    "bmi2 = diabetes['data'][diabetes['data'].sex==2].bmi\n",
    "ttest_ind(bmi1, bmi2)"
   ]
  },
  {
   "cell_type": "markdown",
   "id": "31462633-92ef-4320-bd96-0741b28ff76f",
   "metadata": {},
   "source": [
    "## Correlation\n",
    "\n",
    "- measuring relationsip between two variables\n",
    "- considers only linear relationships (straight line)\n",
    "\n",
    "### Correlation coefficent\n",
    "- quantifies relationship between two numerical variables\n",
    "- often (but not always) called `r`\n",
    "- ranges from -1 to +1\n",
    "    - r = 1 -> perfect positive linear relationship; as one variable increases, the other increases perfectly proportinally\n",
    "    - r = -1 -> perfect negative linear relationship\n",
    "    - r = 0 -> no linear relationship (e.g. shoe size and IQ)\n",
    "    - large absolute values (above +/- 0.7) indicate a strong relationship"
   ]
  },
  {
   "cell_type": "code",
   "execution_count": null,
   "id": "f1c7b825-760c-4f99-9543-9a9122605060",
   "metadata": {},
   "outputs": [],
   "source": [
    "import matplotlib.pyplot as plt\n",
    "\n",
    "x = np.random.random(100)\n",
    "y1 = 3 * x + 50 + 0.1 * np.random.random(100)\n",
    "y2 = - 1.5 * x +  np.random.random(100)\n",
    "y3 = x * x + 0.3 * np.random.random(100)\n",
    "y4 = np.random.random(100)\n",
    "\n",
    "fig, ax = plt.subplots(2, 2, figsize=(10, 10))\n",
    "ax[0, 0].scatter(x, y1)\n",
    "ax[0, 0].set_title(f'Strong positive correlation: r={np.corrcoef(x, y1)[0, 1]:.2f}')\n",
    "ax[0, 1].scatter(x, y2)\n",
    "ax[0, 1].set_title(f'Strong negative correlation: r={np.corrcoef(x, y2)[0, 1]:.2f}')\n",
    "ax[1, 0].scatter(x, y3)\n",
    "ax[1, 0].set_title(f'Non-linear correlation (not covered here!);\\ncan be approximated: r={np.corrcoef(x, y3)[0, 1]:.2f}')\n",
    "ax[1, 1].scatter(x, y4)\n",
    "ax[1, 1].set_title(f'No correlation: r={np.corrcoef(x, y4)[0, 1]:.2f}')\n",
    "for a in ax.ravel():\n",
    "    a.set_xlabel('x')\n",
    "    a.set_ylabel('y')"
   ]
  },
  {
   "cell_type": "markdown",
   "id": "bf6b978f-33ff-4aec-9b88-b0e7bc14b59b",
   "metadata": {},
   "source": [
    "### Correlation vs Causation\n",
    "\n",
    "- Icecream sales are highly correlated with drowning deaths\n",
    "- Visits from priests are also highly correlated with deaths\n",
    "- Number of firefighters in a fire is highly correlated with fire damage\n",
    "\n",
    "-> correlation does NOT tell you why things move together or if one is causing the other!"
   ]
  },
  {
   "cell_type": "code",
   "execution_count": null,
   "id": "ab1642c4-f661-4cc5-8641-abb2f091fc1e",
   "metadata": {},
   "outputs": [],
   "source": [
    "# going back to our diabetes dataset - what causes diabetes?\n",
    "diabetes['target'].head()"
   ]
  },
  {
   "cell_type": "markdown",
   "id": "699d5578-b248-4f7b-8e64-a485e87fb4c3",
   "metadata": {},
   "source": [
    "Before we continue, let's think about the datapoints - we will ignore all the \"s\" columns. But what other column should we ignore?"
   ]
  },
  {
   "cell_type": "code",
   "execution_count": null,
   "id": "57e29a9b-299b-4ace-a4a2-94adb828e71c",
   "metadata": {},
   "outputs": [],
   "source": [
    "# correlation between the first four features and diabetes progression\n",
    "import pandas as pd\n",
    "df = diabetes['data']\n",
    "df['progression'] = diabetes['target']\n",
    "df[['age', 'sex', 'bmi', 'bp', 'progression']].corr()  # (gotcha - can we really correlate all these values?)"
   ]
  },
  {
   "cell_type": "code",
   "execution_count": null,
   "id": "5eb94f62-776f-48b3-beb1-4372df3406f4",
   "metadata": {},
   "outputs": [],
   "source": [
    "plt.scatter(df.bmi, df.progression)\n",
    "plt.ylabel('diabetes progression')\n",
    "plt.xlabel('bmi')\n",
    "plt.title('BMI vs Diabetes Progression (422 samples)')"
   ]
  },
  {
   "cell_type": "markdown",
   "id": "ebdcf47f-5473-4506-8455-794f272f22ff",
   "metadata": {},
   "source": [
    "## Linear Regression\n",
    "\n",
    "- if two variables are correlated, we can use one to predict the other\n",
    "- regression: statistical method to predict a target variable based on values of input variables\n",
    "- simplest case: one input variable (x), one output variable (y)\n",
    "- goal: find the best straight line that describes the relationship between x and y"
   ]
  },
  {
   "cell_type": "markdown",
   "id": "0fdc2ccc-5288-4925-a04d-2b1ac92737bf",
   "metadata": {},
   "source": [
    "### Equation of a Line\n",
    "\n",
    "$ y(x) = b_0 + b_1x + e $\n",
    "\n",
    "- $b_0$ : intercept; predicted value of $y$ when $x$ is 0\n",
    "- $b_1$: slope; how much $y$ is expected to change for every 1 unit increase of $x$\n",
    "- $e$: error; no real world relationship is perfectly straight\n",
    "\n",
    "#### Interpreting Slope\n",
    "\n",
    "- postivie $b_1$: $y$ tends to increase as $x$ increases\n",
    "- negative $b_1$: $y$ tends to decrease as $x$ decreases\n",
    "\n",
    "#### Example: Predicting diabetes based on BMI\n",
    "\n",
    "assume $price = 50,000 + 400 * size$ (size is in sqm)"
   ]
  },
  {
   "cell_type": "code",
   "execution_count": null,
   "id": "66add7c0-f7d1-4091-a78e-c9de4a9b0c5a",
   "metadata": {},
   "outputs": [],
   "source": [
    "from sklearn.linear_model import LinearRegression\n",
    "\n",
    "model = LinearRegression()\n",
    "model.fit(df[['bmi']], df.progression)\n",
    "\n",
    "print(f'Fitted model has slope {model.coef_[0]:.3f} and intercept {model.intercept_:.3f}')"
   ]
  },
  {
   "cell_type": "code",
   "execution_count": null,
   "id": "c23dc31b-cfb5-4181-b549-17d65cbb5072",
   "metadata": {},
   "outputs": [],
   "source": [
    "plt.scatter(df.bmi, df.progression)\n",
    "x = np.arange(df.bmi.min(), df.bmi.max(), 1)\n",
    "y = model.predict(x.reshape(-1, 1))\n",
    "plt.plot(x, y, color='r', linewidth=2, label='fitted line')\n",
    "plt.ylabel('diabetes progression')\n",
    "plt.xlabel('bmi')\n",
    "plt.title('BMI vs Diabetes Progression (422 samples)')\n",
    "_ = plt.legend()"
   ]
  },
  {
   "cell_type": "markdown",
   "id": "69116d8d-31d0-4c70-9f92-03c94c1c3daa",
   "metadata": {},
   "source": [
    "The math behind regression is quite complex, in the beginning it's more important to interpret the results!\n",
    "\n",
    "## Multivariate Linear Regression\n",
    "- will add more input variables that all have a different relationship with the target varable (and with each other)\n",
    "- $b_0$ and $b_1$ become matrices\n",
    "- we could just throw the whole dataset into the regression in sklearn and get a fitted line back!\n",
    "\n",
    "## Logistic Regression\n",
    "- y is binary"
   ]
  },
  {
   "cell_type": "markdown",
   "id": "07331dbd-f6a6-42d9-b2b8-4ce9b270a23d",
   "metadata": {},
   "source": [
    "## Recap\n",
    "\n",
    "- A/B test\n",
    "- t-test\n",
    "- correlation coefficient\n",
    "- correlation vs causation\n",
    "- univariate linear regression\n",
    "\n",
    "## Questions?"
   ]
  },
  {
   "cell_type": "markdown",
   "id": "b88eb0dd-abcb-4cf3-b2f9-54f98f91bcb5",
   "metadata": {},
   "source": [
    "# Key Takeaways from Today\n",
    "\n",
    "- data summarisation and visualisation are crucial for initial understanding\n",
    "- probability helps quantify and navigate uncertainty\n",
    "- inferential staticstics help generaize from a small sample to a large population\n",
    "- hypothesis testing provdes a structured way to make evidence-based decisions\n",
    "- regression helps understand relationships between variables and make predictive models\n"
   ]
  },
  {
   "cell_type": "markdown",
   "id": "588445b8-a439-4503-8ac9-91c05cc08fc4",
   "metadata": {},
   "source": [
    "## What's next?\n",
    "\n",
    "Topics to explore to get better at statistics\n",
    "- more advanced statistical tests (e.g. ANOVA, Chi-Squared)\n",
    "- Bayesian statistcis (different approach to probability and inference)\n",
    "- More advanced data visualisation techniques\n",
    "- Practical projects!\n",
    "\n",
    "Resources:\n",
    "- Talking to LLMs\n",
    "- Online Courses (Coursera, edX, Khan Academy...)\n",
    "- Books:\n",
    "    - Naked Statistics (Charles Wheelan)\n",
    "    - Practical Statistics for Data Scientists (more hands-on Python)\n",
    "- Data Science communities and forums (Stats StackExchange)"
   ]
  },
  {
   "cell_type": "code",
   "execution_count": null,
   "id": "421acf2d-d931-4129-9e76-25d0c7e3474c",
   "metadata": {},
   "outputs": [],
   "source": []
  }
 ],
 "metadata": {
  "kernelspec": {
   "display_name": "stats-workshop",
   "language": "python",
   "name": "stats-workshop"
  },
  "language_info": {
   "codemirror_mode": {
    "name": "ipython",
    "version": 3
   },
   "file_extension": ".py",
   "mimetype": "text/x-python",
   "name": "python",
   "nbconvert_exporter": "python",
   "pygments_lexer": "ipython3",
   "version": "3.12.3"
  }
 },
 "nbformat": 4,
 "nbformat_minor": 5
}

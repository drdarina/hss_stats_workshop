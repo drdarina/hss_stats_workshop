{
 "cells": [
  {
   "cell_type": "markdown",
   "id": "c2b2382b-7725-4b8d-850c-0ca32231182c",
   "metadata": {},
   "source": [
    "# Part 2: Probability Fundamentals"
   ]
  },
  {
   "cell_type": "markdown",
   "id": "d92d4e14-b2a4-420c-8daa-7d8ae969dbf7",
   "metadata": {},
   "source": [
    "## What is probability?\n",
    "\n",
    "- likelihood of an event occurring\n",
    "- how often something is expected to happen out of all possible times it could happen\n",
    "- ds is often about making predictions:\n",
    "    - probability a customer will churn\n",
    "    - probability the model's prediction is correct\n",
    "    - probability the marketing campaign will increasae sales by 10%"
   ]
  },
  {
   "cell_type": "markdown",
   "id": "bff5a3c1-a3d8-4867-9f07-d9ace4ffd6ce",
   "metadata": {},
   "source": [
    "## Basic terminology\n",
    "\n",
    "Example: rollig the dice\n",
    "\n",
    "- Experiment: process that is observed (rolling a die)\n",
    "- Outcome: single possible result of the experiment (getting a 6)\n",
    "- Sample space: alll possible outcomes (for a regular die {1, 2, 3, 4, 5, 6})\n",
    "- Event: set of outcomes to which a probability is assigned (eg rolling a 1)\n",
    "\n",
    "Probability values range from 0 to 1\n",
    "- 0 means an event will never happen (rolling a 7 on a 6-sided die)\n",
    "- 1 means the event will always happen (rolling a number between 1 and 6)"
   ]
  },
  {
   "cell_type": "markdown",
   "id": "d05745b2-d7a8-4878-8671-f5753ae4100f",
   "metadata": {},
   "source": [
    "## Calculating basic probabilities\n",
    "\n",
    "- Basic probability formula:\n",
    "\n",
    "$$ p(event) = \\frac{number\\_of\\_favourable\\_ outcomes} {total\\_ number\\_ of\\_ possible\\_ outcomes} $$\n",
    "\n",
    "Example 1: Probability of rolling a 4\n",
    "\n",
    "Example 2: Probability of rolling an even number\n",
    "\n",
    "Example 3: Probability of drawing King from a deck of 52 cards"
   ]
  },
  {
   "cell_type": "markdown",
   "id": "086a5cab-a37b-44b2-aab9-88669d85c2d1",
   "metadata": {},
   "source": [
    "## Complement rule\n",
    "- Sometimes easier to calculate the probability that something doesn't happen\n",
    "\n",
    "$$p(\\neg A) = 1 - p(A)$$\n",
    "\n",
    "Example: If the probability of rolling a 6 is 1/6, what's the probability of not rolling a 6?"
   ]
  },
  {
   "cell_type": "markdown",
   "id": "e5e763b3-b025-45db-8b2e-f3f8c6822c89",
   "metadata": {},
   "source": [
    "## Types of Events and Rules\n",
    "\n",
    "### Independent Events - No Influence\n",
    "- events are independent if the outcome of one event doe snot affect the outcome of another event\n",
    "- example: flipping a coin twice\n",
    "- if the events are independent:\n",
    "\n",
    "$$p(A \\land B) = P(A) * P(B)$$\n",
    "\n",
    "Example: Probability of rolling two 6 in a row\n",
    "\n",
    "Example: Why is it so hard to win the lottery?"
   ]
  },
  {
   "cell_type": "markdown",
   "id": "79cd4a0f-dbf5-4602-9a14-e0bc8eccffac",
   "metadata": {},
   "source": [
    "### Dependent Events - Influence Each Other\n",
    "\n",
    "- outcome of one event affects outcome of another event\n",
    "- Example: Drawing cards from a deck without replacememt\n",
    "- Conditional probability: probability of B happening, given that A has happened already\n",
    "\n",
    "$$P(A|B) = \\frac{P(A \\land B)}{P(B)}$$\n",
    "\n",
    "- Example: My neighbor has 2 children. I learn that one is a son. What is the probability that the other is also a son?\n",
    "- Most events are dependent! Crucial to understand for DS"
   ]
  },
  {
   "cell_type": "markdown",
   "id": "e64332c7-83a8-4eb1-813e-9476071bec87",
   "metadata": {},
   "source": [
    "### Mutually Exclusive Events - Cannot Happen Together\n",
    "- some events cannot happen at the same time, no overlap\n",
    "- example: rolling two different numbers with the same die roll\n",
    "- probability of one of mutually exclusive events happening is the sum of their individual probabilities\n",
    "\n",
    "$$p(A \\lor B) = P(A) + P(B)$$"
   ]
  },
  {
   "cell_type": "markdown",
   "id": "0d6eb9e7-36f0-44b3-bd63-b683289c4cc5",
   "metadata": {},
   "source": [
    "### Non Mutually Exclusive Events - Can Overlap\n",
    "\n",
    "- Some events can happen at the same time\n",
    "- Example: Drawing a King or a Spade from a deck of cards\n",
    "\n",
    "$$P(A \\lor B) = P(A) + P(B) - P(A \\land B)$$\n",
    "\n",
    "P(King) = 4/52\n",
    "\n",
    "P(Spade) = 13/52\n",
    "\n",
    "P(King and Spade) = 1/52\n",
    "\n",
    "P(King or Spade) = 4/52 + 13/52 - 1/52 = 16/52 = 0.308"
   ]
  },
  {
   "cell_type": "markdown",
   "id": "5958c0c9-371c-4323-b485-90d3aae1ae6e",
   "metadata": {},
   "source": [
    "### Bayesian Rule - Updating Beliefs\n",
    "\n",
    "- Posterior probability (updated probability after the evidence is considered)\n",
    "- Prior probability (the probability before the evidence is considered)\n",
    "- Likelihood (probability of the evidence, given the belief is true)\n",
    "- Marginal probability (probability of the evidence, under any circumstance)\n",
    "\n",
    "$$P(A|B) = P(A) \\frac{P(B|A)}{P(B)}$$\n",
    "\n",
    "\n",
    "Example: Your neighbour is watching their favourite football team. You hear them cheering, and want to estimate the probability their team has scored.\n",
    "- Probability of goal: $P(goal) = 0.2$\n",
    "- Probability of neighbor cheering if goal: $P(cheer|goal)=0.9$\n",
    "- Probability of neighbor cheering: $P(cheer|goal) + P(cheer|no\\_goal) = 0.2*0.9 + 0.1*0.98$\n",
    "\n",
    "$$P(goal|cheer) = 0.2 * \\frac{0.9}{0.2*0.9 + 0.1*0.98}$$"
   ]
  },
  {
   "cell_type": "markdown",
   "id": "b3fefe04-d5ce-4e76-b691-6e9c6831ed6e",
   "metadata": {},
   "source": [
    "## Probability distributions\n",
    "\n",
    "- describe how probabilities are spread across *all* the possible outcomes of an experiment\n",
    "- can be discrete or continuous"
   ]
  },
  {
   "cell_type": "markdown",
   "id": "5fbf24c0-2589-4db8-8540-9787e9808f98",
   "metadata": {},
   "source": [
    "### Discrete Probability Distributions\n",
    "\n",
    "- countable outcomes"
   ]
  },
  {
   "cell_type": "markdown",
   "id": "2ed75043-7865-44bf-a2f1-99de7aa558fb",
   "metadata": {},
   "source": [
    "#### Binomial Distribution\n",
    "\n",
    "- fixed number of independent trials\n",
    "- each trial has only two outcomes (success/failure)\n",
    "- example: coin flip\n",
    "- binomial gives you the probability of success\n",
    "\n",
    "- real life example: \"How likely is it that 7 out of 10 customers will click on an add, if each customer has a 60% chance?\""
   ]
  },
  {
   "cell_type": "code",
   "execution_count": null,
   "id": "e07728df-81f6-4db5-af4d-ef7f3a3ca529",
   "metadata": {},
   "outputs": [],
   "source": [
    "from scipy.stats import binom\n",
    "import matplotlib.pyplot as plt\n",
    "# setting the values\n",
    "# of n and p\n",
    "n = 10\n",
    "p = 0.6\n",
    "# defining list of r values\n",
    "r_values = list(range(n + 1))\n",
    "# list of pmf values\n",
    "dist = [binom.pmf(r, n, p) for r in r_values ]\n",
    "# plotting the graph \n",
    "plt.bar(r_values, dist)\n",
    "_ = plt.title(f'Binomial distribution with {n=} and {p=}')"
   ]
  },
  {
   "cell_type": "markdown",
   "id": "5a3d000a-6be3-4f02-a5ff-60d6e3ca0edd",
   "metadata": {},
   "source": [
    "#### Poisson Distribution\n",
    "\n",
    "- describes the probability of obtaining k successes during a given time interval\n",
    "- example: Bus M45 in Berlin comes three times per hour on average. What is the probability that 5 buses come in an hour?"
   ]
  },
  {
   "cell_type": "code",
   "execution_count": null,
   "id": "3ceb377d-ef16-45c4-a1bd-c59c97e722f8",
   "metadata": {},
   "outputs": [],
   "source": [
    "from scipy.stats import poisson\n",
    "\n",
    "#calculate probability\n",
    "poisson.pmf(k=5, mu=3)"
   ]
  },
  {
   "cell_type": "code",
   "execution_count": null,
   "id": "3afe1caa-c3e5-4759-96b4-7b34286becec",
   "metadata": {},
   "outputs": [],
   "source": [
    "# probability of 1...6 buses coming when on average mu buses come\n",
    "\n",
    "mu = 3\n",
    "dist = [poisson.pmf(k, mu) for k in range(0, 7)]\n",
    "plt.bar(range(0, 7), dist)\n",
    "_ = plt.title(f'Probability of k buses coming in an hour provided that on average {mu=} buses come')"
   ]
  },
  {
   "cell_type": "code",
   "execution_count": null,
   "id": "da3c2995-2c7f-4106-8c48-ca5bfd89a915",
   "metadata": {},
   "outputs": [],
   "source": [
    "# probability that no buses come\n",
    "\n",
    "poisson.cdf(k=0, mu=3)"
   ]
  },
  {
   "cell_type": "code",
   "execution_count": null,
   "id": "c8c3d5e0-1125-407d-bac5-e15522213bdf",
   "metadata": {},
   "outputs": [],
   "source": [
    "# probability that more than 4 buses come\n",
    "\n",
    "1 - poisson.cdf(k=4, mu=3)"
   ]
  },
  {
   "cell_type": "markdown",
   "id": "53159c9c-2a48-4538-a762-b8518cf1dafa",
   "metadata": {},
   "source": [
    "### Continuous Probability Distributions\n",
    "\n",
    "- for data that we can measure\n",
    "- e.g. height / temperature"
   ]
  },
  {
   "cell_type": "markdown",
   "id": "c705d62b-7d0a-42e4-8615-d11bb9879726",
   "metadata": {},
   "source": [
    "#### Normal Distribution - \"the bell curve\"\n",
    "\n",
    "- also known as Gaussian\n",
    "- most important distribution in data science!\n",
    "- symmetric\n",
    "- mean, median and mode are the same\n",
    "- many natural phenomena follow a normal distribution"
   ]
  },
  {
   "cell_type": "code",
   "execution_count": null,
   "id": "1f7563cf-3fff-468a-85c2-e1b48dc0de83",
   "metadata": {},
   "outputs": [],
   "source": [
    "import numpy as np\n",
    "import seaborn as sns\n",
    "import matplotlib.pyplot as plt\n",
    "\n",
    "loc = 0\n",
    "scale = 1\n",
    "data = np.random.normal(loc=loc, scale=scale, size=10000)\n",
    "\n",
    "sns.histplot(data, kde=True, bins=30, color='purple')\n",
    "\n",
    "# Labels and title\n",
    "plt.xlabel('X')\n",
    "plt.ylabel('Frequency')\n",
    "plt.grid()\n",
    "_ = plt.title(f'Normal distribution with mean {loc} and std {scale}')"
   ]
  },
  {
   "cell_type": "code",
   "execution_count": null,
   "id": "e7aff7cb-a00e-4aae-98dc-24276fb62891",
   "metadata": {},
   "outputs": [],
   "source": [
    "loc = -1\n",
    "scale = 1\n",
    "data = np.random.normal(loc=loc, scale=scale, size=10000)\n",
    "\n",
    "sns.histplot(data, kde=True, bins=30, color='purple')\n",
    "\n",
    "# Labels and title\n",
    "plt.xlabel('X')\n",
    "plt.ylabel('Frequency')\n",
    "plt.grid()\n",
    "_ = plt.title(f'Normal distribution with mean {loc} and std {scale}')"
   ]
  },
  {
   "cell_type": "markdown",
   "id": "1c6b1a66-6e30-4f44-a7d9-686d0eb1661c",
   "metadata": {},
   "source": [
    "##### Empirical Rule (for Normal Distributions)\n",
    "\n",
    "- 68% of data falls within one std of the mean\n",
    "- 95% of data falls within two std of the mean\n",
    "- 99.7% of the data falls within 3 std of the mean"
   ]
  },
  {
   "cell_type": "markdown",
   "id": "8d9db88b-1b49-4e69-af15-540fcd6de05a",
   "metadata": {},
   "source": [
    "## Recap\n",
    "\n",
    "- how to calculate basic probabilities\n",
    "- dependent vs independent events\n",
    "- mutually exclusive vs non mutually exclusive events\n",
    "- brief introduciton to probability distributions\n",
    "- especially the mighty Gaussian!\n",
    "\n",
    "## Questions?"
   ]
  },
  {
   "cell_type": "code",
   "execution_count": null,
   "id": "67e3e70f-075c-4c23-b06d-8c0d2a421607",
   "metadata": {},
   "outputs": [],
   "source": []
  }
 ],
 "metadata": {
  "kernelspec": {
   "display_name": "stats-workshop",
   "language": "python",
   "name": "stats-workshop"
  },
  "language_info": {
   "codemirror_mode": {
    "name": "ipython",
    "version": 3
   },
   "file_extension": ".py",
   "mimetype": "text/x-python",
   "name": "python",
   "nbconvert_exporter": "python",
   "pygments_lexer": "ipython3",
   "version": "3.12.3"
  }
 },
 "nbformat": 4,
 "nbformat_minor": 5
}

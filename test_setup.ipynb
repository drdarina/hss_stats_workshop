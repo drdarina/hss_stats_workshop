{
 "cells": [
  {
   "cell_type": "markdown",
   "id": "6d571c96-c5c5-40da-aba1-ac772d524f7b",
   "metadata": {},
   "source": [
    "## Run the two cells below to test your setup and preload the datasets required for the workshop"
   ]
  },
  {
   "cell_type": "code",
   "execution_count": 1,
   "id": "d45d0637-1349-421f-9c95-011954f240b4",
   "metadata": {},
   "outputs": [],
   "source": [
    "# imports\n",
    "import numpy as np\n",
    "import pandas as pd\n",
    "import matplotlib.pyplot as plt\n",
    "import seaborn as sns\n",
    "from scipy import stats\n",
    "import sklearn"
   ]
  },
  {
   "cell_type": "code",
   "execution_count": 2,
   "id": "2a1cd58b-d82f-42de-8223-03b9f7733afd",
   "metadata": {},
   "outputs": [],
   "source": [
    "# preload datasets\n",
    "from sklearn.datasets import load_iris, fetch_california_housing, load_diabetes\n",
    "\n",
    "iris = load_iris(as_frame=True)\n",
    "diabetes = load_diabetes(as_frame=True)\n",
    "housing = fetch_california_housing(as_frame=True)"
   ]
  },
  {
   "cell_type": "code",
   "execution_count": null,
   "id": "8e8a12e9-2358-42cd-b804-39691b44cd0a",
   "metadata": {},
   "outputs": [],
   "source": []
  }
 ],
 "metadata": {
  "kernelspec": {
   "display_name": "stats-workshop",
   "language": "python",
   "name": "stats-workshop"
  },
  "language_info": {
   "codemirror_mode": {
    "name": "ipython",
    "version": 3
   },
   "file_extension": ".py",
   "mimetype": "text/x-python",
   "name": "python",
   "nbconvert_exporter": "python",
   "pygments_lexer": "ipython3",
   "version": "3.12.3"
  }
 },
 "nbformat": 4,
 "nbformat_minor": 5
}

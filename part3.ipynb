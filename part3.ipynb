{
 "cells": [
  {
   "cell_type": "markdown",
   "id": "70849741-397e-4528-b121-17f06a8e39bf",
   "metadata": {},
   "source": [
    "# Part 3: Inferential Statistcis\n",
    "\n",
    "How to draw conclusions about a large group based on a small part of it"
   ]
  },
  {
   "cell_type": "markdown",
   "id": "bb8692b5-58e3-443a-b1b9-7bc8b8968754",
   "metadata": {},
   "source": [
    "## From Sample to Population\n",
    "\n",
    "- population: entire group of individuals or items you are studying\n",
    "- sample: a smaller, manageable subset of the population that you actually collect data from\n",
    "- inference: making conclusions about something based on something else\n",
    "\n",
    "- example: cannot measure the height of everyone in Germany, select 1000 random adults and infer from those"
   ]
  },
  {
   "cell_type": "markdown",
   "id": "ecade8f1-6ff1-497d-9749-a208290648b0",
   "metadata": {},
   "source": [
    "## Questions we face:\n",
    "\n",
    "- How can we select a sample that is representative of the population?\n",
    "- How large does the sample need to be?\n",
    "- How reliable are our conclusions?"
   ]
  },
  {
   "cell_type": "markdown",
   "id": "a4cf6e9d-90b6-45b9-9d0f-26d125d6e951",
   "metadata": {},
   "source": [
    "## Central Limit Theorem\n",
    "\n",
    "### Intuitive Explanation: Calculate average income of people in California\n",
    "\n",
    "- income distribution is usually skewed, not normally distributed (sadly!)\n",
    "- cannot ask everyone, so we ask a random sample of 100 people, their average income is X1\n",
    "- now take another random sample of 100 people (the people before were \"put back\" into the population) and calculate their average outcome, X2\n",
    "- repeat over and over again\n",
    "- we now have a collection of sample averages, X1, X2, X3...\n",
    "- *CLT magic* the distribution of the samples will tend to be normally distributed\n",
    "- the larger the sample size you draw, the more normal the distribution will look"
   ]
  },
  {
   "cell_type": "code",
   "execution_count": 1,
   "id": "6fc88b19-b932-4e6d-b6fc-51aecdd918c4",
   "metadata": {},
   "outputs": [
    {
     "data": {
      "text/html": [
       "<div>\n",
       "<style scoped>\n",
       "    .dataframe tbody tr th:only-of-type {\n",
       "        vertical-align: middle;\n",
       "    }\n",
       "\n",
       "    .dataframe tbody tr th {\n",
       "        vertical-align: top;\n",
       "    }\n",
       "\n",
       "    .dataframe thead th {\n",
       "        text-align: right;\n",
       "    }\n",
       "</style>\n",
       "<table border=\"1\" class=\"dataframe\">\n",
       "  <thead>\n",
       "    <tr style=\"text-align: right;\">\n",
       "      <th></th>\n",
       "      <th>MedInc</th>\n",
       "      <th>HouseAge</th>\n",
       "      <th>AveRooms</th>\n",
       "      <th>AveBedrms</th>\n",
       "      <th>Population</th>\n",
       "      <th>AveOccup</th>\n",
       "      <th>Latitude</th>\n",
       "      <th>Longitude</th>\n",
       "    </tr>\n",
       "  </thead>\n",
       "  <tbody>\n",
       "    <tr>\n",
       "      <th>0</th>\n",
       "      <td>8.3252</td>\n",
       "      <td>41.0</td>\n",
       "      <td>6.984127</td>\n",
       "      <td>1.023810</td>\n",
       "      <td>322.0</td>\n",
       "      <td>2.555556</td>\n",
       "      <td>37.88</td>\n",
       "      <td>-122.23</td>\n",
       "    </tr>\n",
       "    <tr>\n",
       "      <th>1</th>\n",
       "      <td>8.3014</td>\n",
       "      <td>21.0</td>\n",
       "      <td>6.238137</td>\n",
       "      <td>0.971880</td>\n",
       "      <td>2401.0</td>\n",
       "      <td>2.109842</td>\n",
       "      <td>37.86</td>\n",
       "      <td>-122.22</td>\n",
       "    </tr>\n",
       "    <tr>\n",
       "      <th>2</th>\n",
       "      <td>7.2574</td>\n",
       "      <td>52.0</td>\n",
       "      <td>8.288136</td>\n",
       "      <td>1.073446</td>\n",
       "      <td>496.0</td>\n",
       "      <td>2.802260</td>\n",
       "      <td>37.85</td>\n",
       "      <td>-122.24</td>\n",
       "    </tr>\n",
       "    <tr>\n",
       "      <th>3</th>\n",
       "      <td>5.6431</td>\n",
       "      <td>52.0</td>\n",
       "      <td>5.817352</td>\n",
       "      <td>1.073059</td>\n",
       "      <td>558.0</td>\n",
       "      <td>2.547945</td>\n",
       "      <td>37.85</td>\n",
       "      <td>-122.25</td>\n",
       "    </tr>\n",
       "    <tr>\n",
       "      <th>4</th>\n",
       "      <td>3.8462</td>\n",
       "      <td>52.0</td>\n",
       "      <td>6.281853</td>\n",
       "      <td>1.081081</td>\n",
       "      <td>565.0</td>\n",
       "      <td>2.181467</td>\n",
       "      <td>37.85</td>\n",
       "      <td>-122.25</td>\n",
       "    </tr>\n",
       "    <tr>\n",
       "      <th>...</th>\n",
       "      <td>...</td>\n",
       "      <td>...</td>\n",
       "      <td>...</td>\n",
       "      <td>...</td>\n",
       "      <td>...</td>\n",
       "      <td>...</td>\n",
       "      <td>...</td>\n",
       "      <td>...</td>\n",
       "    </tr>\n",
       "    <tr>\n",
       "      <th>20635</th>\n",
       "      <td>1.5603</td>\n",
       "      <td>25.0</td>\n",
       "      <td>5.045455</td>\n",
       "      <td>1.133333</td>\n",
       "      <td>845.0</td>\n",
       "      <td>2.560606</td>\n",
       "      <td>39.48</td>\n",
       "      <td>-121.09</td>\n",
       "    </tr>\n",
       "    <tr>\n",
       "      <th>20636</th>\n",
       "      <td>2.5568</td>\n",
       "      <td>18.0</td>\n",
       "      <td>6.114035</td>\n",
       "      <td>1.315789</td>\n",
       "      <td>356.0</td>\n",
       "      <td>3.122807</td>\n",
       "      <td>39.49</td>\n",
       "      <td>-121.21</td>\n",
       "    </tr>\n",
       "    <tr>\n",
       "      <th>20637</th>\n",
       "      <td>1.7000</td>\n",
       "      <td>17.0</td>\n",
       "      <td>5.205543</td>\n",
       "      <td>1.120092</td>\n",
       "      <td>1007.0</td>\n",
       "      <td>2.325635</td>\n",
       "      <td>39.43</td>\n",
       "      <td>-121.22</td>\n",
       "    </tr>\n",
       "    <tr>\n",
       "      <th>20638</th>\n",
       "      <td>1.8672</td>\n",
       "      <td>18.0</td>\n",
       "      <td>5.329513</td>\n",
       "      <td>1.171920</td>\n",
       "      <td>741.0</td>\n",
       "      <td>2.123209</td>\n",
       "      <td>39.43</td>\n",
       "      <td>-121.32</td>\n",
       "    </tr>\n",
       "    <tr>\n",
       "      <th>20639</th>\n",
       "      <td>2.3886</td>\n",
       "      <td>16.0</td>\n",
       "      <td>5.254717</td>\n",
       "      <td>1.162264</td>\n",
       "      <td>1387.0</td>\n",
       "      <td>2.616981</td>\n",
       "      <td>39.37</td>\n",
       "      <td>-121.24</td>\n",
       "    </tr>\n",
       "  </tbody>\n",
       "</table>\n",
       "<p>20640 rows × 8 columns</p>\n",
       "</div>"
      ],
      "text/plain": [
       "       MedInc  HouseAge  AveRooms  AveBedrms  Population  AveOccup  Latitude  \\\n",
       "0      8.3252      41.0  6.984127   1.023810       322.0  2.555556     37.88   \n",
       "1      8.3014      21.0  6.238137   0.971880      2401.0  2.109842     37.86   \n",
       "2      7.2574      52.0  8.288136   1.073446       496.0  2.802260     37.85   \n",
       "3      5.6431      52.0  5.817352   1.073059       558.0  2.547945     37.85   \n",
       "4      3.8462      52.0  6.281853   1.081081       565.0  2.181467     37.85   \n",
       "...       ...       ...       ...        ...         ...       ...       ...   \n",
       "20635  1.5603      25.0  5.045455   1.133333       845.0  2.560606     39.48   \n",
       "20636  2.5568      18.0  6.114035   1.315789       356.0  3.122807     39.49   \n",
       "20637  1.7000      17.0  5.205543   1.120092      1007.0  2.325635     39.43   \n",
       "20638  1.8672      18.0  5.329513   1.171920       741.0  2.123209     39.43   \n",
       "20639  2.3886      16.0  5.254717   1.162264      1387.0  2.616981     39.37   \n",
       "\n",
       "       Longitude  \n",
       "0        -122.23  \n",
       "1        -122.22  \n",
       "2        -122.24  \n",
       "3        -122.25  \n",
       "4        -122.25  \n",
       "...          ...  \n",
       "20635    -121.09  \n",
       "20636    -121.21  \n",
       "20637    -121.22  \n",
       "20638    -121.32  \n",
       "20639    -121.24  \n",
       "\n",
       "[20640 rows x 8 columns]"
      ]
     },
     "execution_count": 1,
     "metadata": {},
     "output_type": "execute_result"
    }
   ],
   "source": [
    "# using a bigger dataset\n",
    "from sklearn.datasets import fetch_california_housing\n",
    "\n",
    "dataset = fetch_california_housing(return_X_y=True, as_frame=True)\n",
    "df = dataset[0]\n",
    "df"
   ]
  },
  {
   "cell_type": "code",
   "execution_count": 6,
   "id": "8c873530-45d0-4bf5-9e1b-1e74312dcaed",
   "metadata": {},
   "outputs": [
    {
     "data": {
      "image/png": "[encoded data removed]",
      "text/plain": [
       "<Figure size 640x480 with 1 Axes>"
      ]
     },
     "metadata": {},
     "output_type": "display_data"
    }
   ],
   "source": [
    "import matplotlib.pyplot as plt\n",
    "means = []\n",
    "total_samples = 1000\n",
    "for i in range(total_samples):\n",
    "    means.append(df.MedInc.sample(30).mean())\n",
    "_ = plt.hist(means, bins=100)\n",
    "_ = plt.title(f'Distribution of incomes of {total_samples} samples from california housing dataset')"
   ]
  },
  {
   "cell_type": "code",
   "execution_count": 7,
   "id": "b34ef9b6-5e04-4787-9eaf-5a85268602e5",
   "metadata": {},
   "outputs": [
    {
     "data": {
      "image/png": "[encoded data removed]",
      "text/plain": [
       "<Figure size 640x480 with 1 Axes>"
      ]
     },
     "metadata": {},
     "output_type": "display_data"
    }
   ],
   "source": [
    "plt.hist(df.MedInc, bins=100)\n",
    "_ = plt.title(f'Histogram of the true California incomes')"
   ]
  },
  {
   "cell_type": "markdown",
   "id": "bc32a080-788d-4300-a4dd-9b6230ecaa97",
   "metadata": {},
   "source": [
    "## Why is CLT important?\n",
    "\n",
    "- allows us to use normal distribution even though data is not normally distributed\n",
    "- helps estimate population mean of skewed populations"
   ]
  },
  {
   "cell_type": "markdown",
   "id": "79390bc4-eb68-43eb-974b-7c5ee48539e6",
   "metadata": {},
   "source": [
    "## Standard Error of the Mean\n",
    "\n",
    "- this is the standard deviation (spread) of the distribution of sample means\n",
    "- expected variability in the sample means if we were to take many samples\n",
    "- NOT the standard deviation of the original data!"
   ]
  },
  {
   "cell_type": "markdown",
   "id": "85cff20f-86e5-4649-8447-6801137c255d",
   "metadata": {},
   "source": [
    "## Point Estimate\n",
    "\n",
    "- a single number that estimates a population parameter (e.g. sample mean)\n",
    "- how close is that number to the true number?\n",
    "- example: sample mean height is 172 cm, how close is that to the true height of the entire population?\n",
    "\n",
    "## Confidence Intervals\n",
    "\n",
    "- help quantify the uncertainty of the point estimate\n",
    "- range of values within which we are reasonably confident the true population parameter (eg mean) lies\n",
    "- usually quantified: 95% confidence interval\n",
    "- !!!95% confidence interval does NOT mean there is a 95% chance the true mean is in the confidence interval!!!\n",
    "- 95% confidence interval means we are 95% confident that our method of creating the interval captures the true mean\n",
    "\n",
    "example: 95% confidence interval for average customer spending is 50€ to 70€, what does it say about the true average spending?"
   ]
  },
  {
   "cell_type": "markdown",
   "id": "20d79303-3d78-4897-a644-65d3b954c4d2",
   "metadata": {},
   "source": [
    "## Factors Affecting Interval Width\n",
    "\n",
    "- sample size (more samples -> narrower intervals)\n",
    "- variability (more variability -> wider intervals)\n",
    "- confidence level (higher confidence -> wider interval)"
   ]
  },
  {
   "cell_type": "markdown",
   "id": "620e5ba0-a16f-4f40-8ab8-bf951a88da71",
   "metadata": {},
   "source": [
    "## Hypothesis Testing\n",
    "\n",
    "- \"courtroom\" for the data\n",
    "- decide between two competing statments (hypotheses)\n",
    "- example: new drug against cold - does it work?"
   ]
  },
  {
   "cell_type": "markdown",
   "id": "b2c30b7f-8166-4f76-ab6d-63960f151207",
   "metadata": {},
   "source": [
    "### Null vs Alternative Hypothesis\n",
    "\n",
    "\n",
    "#### Null Hypothesis (H0):\n",
    "- default assumption (status quo)\n",
    "- usually states there is no effect / difference / relationship (hence null)\n",
    "- assumed to be true unless there is strong evidence against it\n",
    "- drug example: \"H0: The new drug has no effect, it is the same as a placebo\"\n",
    "\n",
    "#### Alternate Hypothesis (Ha or H1)\n",
    "- what we are trying to prove\n",
    "- states that effect / difference / relationship exists\n",
    "- drug example: \"H1: The new drug has an effect on cold length\"\n",
    "- we do not try to \"prove\" H1!\n",
    "\n",
    "#### The Goal\n",
    "- gather evidence to see if we can reject the null hypothesis\n",
    "- if we reject H0, it means that there is enough evidence to support Ha\n",
    "- jury analogy: assume innocent (H0) until proven guilty (Ha) - we don't prove innocence, we show evidence against it!\n",
    "\n",
    "#### Type I Error\n",
    "- falsely rejecting a null hypothesis"
   ]
  },
  {
   "cell_type": "markdown",
   "id": "e1f3f391-d688-4739-a3e6-0bc27984367f",
   "metadata": {},
   "source": [
    "### P-Value\n",
    "\n",
    "- most crucial and often misunderstood concept of hypothesis testing!\n",
    "- intuitive explanation: probability of observing sample data if the null hypothesis was actually true\n",
    "- drug example: \"How likely are we to see a difference this big (or bigger) in the cold duration between the drug group and the placebo group purely by chance?\"\n",
    "\n",
    "- small p-value: observed data very unlikely to happen if H0 is true -> reject null hypothesis\n",
    "- large p-value observed data is quite likely to happen even if H0 was true -> fail to reject null hypothesis\n",
    "\n",
    "#### what is small/large?"
   ]
  },
  {
   "cell_type": "markdown",
   "id": "39483191-7979-48d0-8fab-e22a1ab0a0e9",
   "metadata": {},
   "source": [
    "### Significance Level (α)\n",
    "\n",
    "- threshold for deciding if p-value is \"small enough\"\n",
    "- decided BEFORE the experiment\n",
    "- tolerance for \"making a mistake\" (type I error)\n",
    "- most common value: 0.05 (5%) -> reject H0 if p <= 0.05\n",
    "- can be larger depending on context\n",
    "- \"tolerance of making a mistake\"\n",
    "- α is decided; p is calculated\n",
    "\n",
    "### Clinical Significance Level\n",
    "\n",
    "- effects can be significant but not clinically significant\n",
    "- \"no real impact\"\n",
    "- mostly for clinical trials\n",
    "- also decided BEFORE the experiment"
   ]
  },
  {
   "cell_type": "markdown",
   "id": "d2a7d45d-1f80-43fe-bfcc-c4edd837a262",
   "metadata": {},
   "source": [
    "## Recap\n",
    "\n",
    "- population vs sample\n",
    "- central limit theorem\n",
    "- sample mean\n",
    "- confidence intervals\n",
    "- hypothesis testing\n",
    "- null vs alternative hypothesis\n",
    "- p-value and significance level\n",
    "\n",
    "## Questions?"
   ]
  }
 ],
 "metadata": {
  "kernelspec": {
   "display_name": "stats-workshop",
   "language": "python",
   "name": "stats-workshop"
  },
  "language_info": {
   "codemirror_mode": {
    "name": "ipython",
    "version": 3
   },
   "file_extension": ".py",
   "mimetype": "text/x-python",
   "name": "python",
   "nbconvert_exporter": "python",
   "pygments_lexer": "ipython3",
   "version": "3.12.3"
  }
 },
 "nbformat": 4,
 "nbformat_minor": 5
}
